{
 "cells": [
  {
   "cell_type": "code",
   "execution_count": 1,
   "metadata": {},
   "outputs": [
    {
     "name": "stdout",
     "output_type": "stream",
     "text": [
      "\n",
      "Twinkle, twinkle, little star,\n",
      "How I wonder what you are!\n",
      "Up above the world so high,\n",
      "Like a diamond in the sky.\n",
      "\n",
      "When the blazing sun is gone,\n",
      "When he nothing shines upon,\n",
      "Then you show your little light,\n",
      "Twinkle, twinkle, all the night.\n",
      "\n",
      "Then the traveler in the dark\n",
      "Thanks you for your tiny spark;\n",
      "He could not see which way to go,\n",
      "If you did not twinkle so.\n",
      "\n",
      "In the dark blue sky you keep,\n",
      "And often through my curtains peep,\n",
      "For you never shut your eye\n",
      "Till the sun is in the sky.\n",
      "\n",
      "As your bright and tiny spark\n",
      "Lights the traveler in the dark,\n",
      "Though I know not what you are,\n",
      "Twinkle, twinkle, little star.\n",
      "\n"
     ]
    }
   ],
   "source": [
    "#Write a program to print Twinkle twinkle little star poem in python.\n",
    "print('''\n",
    "Twinkle, twinkle, little star,\n",
    "How I wonder what you are!\n",
    "Up above the world so high,\n",
    "Like a diamond in the sky.\n",
    "\n",
    "When the blazing sun is gone,\n",
    "When he nothing shines upon,\n",
    "Then you show your little light,\n",
    "Twinkle, twinkle, all the night.\n",
    "\n",
    "Then the traveler in the dark\n",
    "Thanks you for your tiny spark;\n",
    "He could not see which way to go,\n",
    "If you did not twinkle so.\n",
    "\n",
    "In the dark blue sky you keep,\n",
    "And often through my curtains peep,\n",
    "For you never shut your eye\n",
    "Till the sun is in the sky.\n",
    "\n",
    "As your bright and tiny spark\n",
    "Lights the traveler in the dark,\n",
    "Though I know not what you are,\n",
    "Twinkle, twinkle, little star.\n",
    "''')"
   ]
  },
  {
   "cell_type": "code",
   "execution_count": 3,
   "metadata": {},
   "outputs": [],
   "source": [
    "#Install an external module and use it to perform an operation of your interest. "
   ]
  },
  {
   "cell_type": "code",
   "execution_count": 4,
   "metadata": {},
   "outputs": [],
   "source": [
    "import pyttsx3\n"
   ]
  },
  {
   "cell_type": "code",
   "execution_count": 6,
   "metadata": {},
   "outputs": [],
   "source": [
    "engine = pyttsx3.init()\n",
    "engine.say(\"Hello my name is Aayush\")\n",
    "engine.runAndWait()"
   ]
  },
  {
   "cell_type": "code",
   "execution_count": null,
   "metadata": {},
   "outputs": [],
   "source": [
    "engine = pyttsx3.init() # object creation\n",
    "\n",
    "\"\"\" RATE\"\"\"\n",
    "rate = engine.getProperty('rate')   # getting details of current speaking rate\n",
    "print (rate)                        #printing current voice rate\n",
    "engine.setProperty('rate', 125)     # setting up new voice rate\n",
    "\n",
    "\n",
    "\"\"\"VOLUME\"\"\"\n",
    "volume = engine.getProperty('volume')   #getting to know current volume level (min=0 and max=1)\n",
    "print (volume)                          #printing current volume level\n",
    "engine.setProperty('volume',1.0)    # setting up volume level  between 0 and 1\n",
    "\n",
    "\"\"\"VOICE\"\"\"\n",
    "voices = engine.getProperty('voices')       #getting details of current voice\n",
    "#engine.setProperty('voice', voices[0].id)  #changing index, changes voices. o for male\n",
    "engine.setProperty('voice', voices[1].id)   #changing index, changes voices. 1 for female\n",
    "\n",
    "engine.say(\"Hello World!\")\n",
    "engine.say('My current speaking rate is ' + str(rate))\n",
    "engine.runAndWait()\n",
    "engine.stop()\n",
    "\n",
    "\"\"\"Saving Voice to a file\"\"\"\n",
    "# On linux make sure that 'espeak' and 'ffmpeg' are installed\n",
    "engine.save_to_file('Hello World', 'test.mp3')\n",
    "engine.runAndWait()"
   ]
  },
  {
   "cell_type": "code",
   "execution_count": 10,
   "metadata": {},
   "outputs": [
    {
     "name": "stdout",
     "output_type": "stream",
     "text": [
      "200\n",
      "200\n"
     ]
    }
   ],
   "source": [
    "rate = engine.getProperty('rate')\n",
    "print(rate)\n",
    "engine.setProperty('rate',125)\n",
    "print(rate)"
   ]
  },
  {
   "cell_type": "code",
   "execution_count": 13,
   "metadata": {},
   "outputs": [],
   "source": [
    "engine.setProperty('rate',125)\n",
    "engine.say(\"Hello my name is Aayush\")\n",
    "engine.runAndWait()"
   ]
  },
  {
   "cell_type": "code",
   "execution_count": 21,
   "metadata": {},
   "outputs": [
    {
     "name": "stdout",
     "output_type": "stream",
     "text": [
      "1.0\n"
     ]
    }
   ],
   "source": [
    "volume = engine.getProperty('volume')   #getting to know current volume level (min=0 and max=1)\n",
    "print (volume)                          #printing current volume level\n",
    "engine.setProperty('volume',1.0)    # setting up volume level  between 0 and 1\n",
    "engine.say(\"Hello my name is Aayush\")\n",
    "engine.runAndWait()"
   ]
  },
  {
   "cell_type": "code",
   "execution_count": 26,
   "metadata": {},
   "outputs": [],
   "source": [
    "voices = engine.getProperty('voices')       #getting details of current voice\n",
    "# print(voices)\n",
    "#engine.setProperty('voice', voices[0].id)  #changing index, changes voices. o for male\n",
    "engine.setProperty('voice', voices[1].id)   #changing index, changes voices. 1 for female\n",
    "engine.say(\"Hello my name is steve\")\n",
    "engine.runAndWait()"
   ]
  },
  {
   "cell_type": "code",
   "execution_count": 30,
   "metadata": {},
   "outputs": [],
   "source": [
    "engine.say(\"Hello World!\")\n",
    "engine.say('My current speaking rate is ' + str(rate))\n",
    "engine.runAndWait()\n",
    "engine.stop()\n"
   ]
  },
  {
   "cell_type": "code",
   "execution_count": 31,
   "metadata": {},
   "outputs": [],
   "source": [
    "#Write a python program to print the contents of a directory using the os module.\n"
   ]
  },
  {
   "cell_type": "code",
   "execution_count": 36,
   "metadata": {},
   "outputs": [
    {
     "name": "stdout",
     "output_type": "stream",
     "text": [
      "Contents of directory 'D:\\django sipalaya':\n",
      "AAYUSH DAHAL_9861495289_DOTM_Appointment.pdf\n",
      "Day15 Django working flow.mkv\n",
      "Day16 bootstrap integrate .mkv\n",
      "Day17 data pass from templates to views.mkv\n",
      "Day18 form data save into db.mkv\n",
      "Day19 get model data in templates.mkv\n",
      "Day20 pgadmin4 and get edit data.mkv\n",
      "Day21 edit_delete.mkv\n",
      "Day22 singup and login.mkv\n",
      "Day23 login decorator.mkv\n",
      "Day24 datatable message permission.mkv\n",
      "Day25 qna and recap django.mkv\n",
      "Day26 django rest framework.mkv\n",
      "Day27 rest concept.mkv\n",
      "Day28 serialization.mkv\n",
      "Day29 list serializer.mkv\n",
      "Day30 update and delete from serializer.mkv\n",
      "Day31 serializer validation.mkv\n",
      "Day32 login in rest framework.mkv\n",
      "Day33 authetication and authorization.mkv\n"
     ]
    }
   ],
   "source": [
    "import os\n",
    "\n",
    "def list_directory_contents(path='.'):\n",
    "    \"\"\"\n",
    "    Prints the contents of the directory specified by 'path'.\n",
    "    If no path is specified, the current directory is used.\n",
    "    \"\"\"\n",
    "    try:\n",
    "        # Get the list of files and directories\n",
    "        contents = os.listdir(path)\n",
    "        \n",
    "        print(f\"Contents of directory '{path}':\")\n",
    "        for item in contents:\n",
    "            print(item)\n",
    "    \n",
    "    except FileNotFoundError:\n",
    "        print(f\"The directory '{path}' does not exist.\")\n",
    "    except PermissionError:\n",
    "        print(f\"Permission denied to access the directory '{path}'.\")\n",
    "    except Exception as e:\n",
    "        print(f\"An error occurred: {e}\")\n",
    "\n",
    "# Specify the path you want to list\n",
    "directory_path = 'D:\\django sipalaya'  # Current directory\n",
    "list_directory_contents(directory_path)\n"
   ]
  },
  {
   "cell_type": "code",
   "execution_count": null,
   "metadata": {},
   "outputs": [],
   "source": []
  }
 ],
 "metadata": {
  "kernelspec": {
   "display_name": "Python 3",
   "language": "python",
   "name": "python3"
  },
  "language_info": {
   "codemirror_mode": {
    "name": "ipython",
    "version": 3
   },
   "file_extension": ".py",
   "mimetype": "text/x-python",
   "name": "python",
   "nbconvert_exporter": "python",
   "pygments_lexer": "ipython3",
   "version": "3.9.13"
  }
 },
 "nbformat": 4,
 "nbformat_minor": 2
}
